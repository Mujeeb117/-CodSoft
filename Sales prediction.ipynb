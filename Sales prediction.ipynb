{
 "cells": [
  {
   "cell_type": "markdown",
   "id": "d70f0d39",
   "metadata": {},
   "source": [
    "# Load Libraries"
   ]
  },
  {
   "cell_type": "code",
   "execution_count": 10,
   "id": "9101c4f0",
   "metadata": {},
   "outputs": [],
   "source": [
    "import numpy as np\n",
    "import pandas as pd\n",
    "import matplotlib.pyplot as plt\n",
    "import seaborn as sns\n",
    "from sklearn.model_selection import train_test_split\n",
    "from sklearn.linear_model import LinearRegression"
   ]
  },
  {
   "cell_type": "markdown",
   "id": "4e82761f",
   "metadata": {},
   "source": [
    "# load data"
   ]
  },
  {
   "cell_type": "code",
   "execution_count": 13,
   "id": "4c5e62f6",
   "metadata": {},
   "outputs": [
    {
     "name": "stdout",
     "output_type": "stream",
     "text": [
      "      TV  Radio  Newspaper  Sales\n",
      "0  230.1   37.8       69.2   22.1\n",
      "1   44.5   39.3       45.1   10.4\n",
      "2   17.2   45.9       69.3   12.0\n",
      "3  151.5   41.3       58.5   16.5\n",
      "4  180.8   10.8       58.4   17.9\n"
     ]
    }
   ],
   "source": [
    "DATA=pd.read_csv('advertising.csv')\n",
    "print(DATA.head())"
   ]
  },
  {
   "cell_type": "code",
   "execution_count": 15,
   "id": "19d2061f",
   "metadata": {},
   "outputs": [
    {
     "name": "stdout",
     "output_type": "stream",
     "text": [
      "TV           0\n",
      "Radio        0\n",
      "Newspaper    0\n",
      "Sales        0\n",
      "dtype: int64\n"
     ]
    }
   ],
   "source": [
    "print(DATA.isnull().sum())"
   ]
  },
  {
   "cell_type": "markdown",
   "id": "b039d029",
   "metadata": {},
   "source": [
    "# Visualizing"
   ]
  },
  {
   "cell_type": "code",
   "execution_count": 27,
   "id": "e9078036",
   "metadata": {},
   "outputs": [
    {
     "data": {
      "image/png": "[encoded data removed]",
      "text/plain": [
       "<Figure size 800x600 with 2 Axes>"
      ]
     },
     "metadata": {},
     "output_type": "display_data"
    }
   ],
   "source": [
    "plt.style.use('seaborn-whitegrid')\n",
    "plt.figure(figsize=(8,6))\n",
    "sns.heatmap(DATA.corr())\n",
    "plt.show()"
   ]
  },
  {
   "cell_type": "code",
   "execution_count": 30,
   "id": "434c7c93",
   "metadata": {},
   "outputs": [
    {
     "name": "stderr",
     "output_type": "stream",
     "text": [
      "C:\\Users\\mujee\\AppData\\Local\\Temp\\ipykernel_6592\\3813518324.py:1: FutureWarning: In a future version of pandas all arguments of DataFrame.drop except for the argument 'labels' will be keyword-only.\n",
      "  x = np.array(DATA.drop([\"Sales\"], 1))\n"
     ]
    },
    {
     "name": "stdout",
     "output_type": "stream",
     "text": [
      "    Predicted Sales\n",
      "0         17.034772\n",
      "1         20.409740\n",
      "2         23.723989\n",
      "3          9.272785\n",
      "4         21.682719\n",
      "5         12.569402\n",
      "6         21.081195\n",
      "7          8.690350\n",
      "8         17.237013\n",
      "9         16.666575\n",
      "10         8.923965\n",
      "11         8.481734\n",
      "12        18.207512\n",
      "13         8.067507\n",
      "14        12.645510\n",
      "15        14.931628\n",
      "16         8.128146\n",
      "17        17.898766\n",
      "18        11.008806\n",
      "19        20.478328\n",
      "20        20.806318\n",
      "21        12.598833\n",
      "22        10.905183\n",
      "23        22.388548\n",
      "24         9.417961\n",
      "25         7.925067\n",
      "26        20.839085\n",
      "27        13.815209\n",
      "28        10.770809\n",
      "29         7.926825\n",
      "30        15.959474\n",
      "31        10.634909\n",
      "32        20.802920\n",
      "33        10.434342\n",
      "34        21.578475\n",
      "35        21.183645\n",
      "36        12.128218\n",
      "37        22.809533\n",
      "38        12.609928\n",
      "39         6.464413\n"
     ]
    }
   ],
   "source": [
    "x = np.array(DATA.drop([\"Sales\"], 1))\n",
    "y = np.array(DATA[\"Sales\"])\n",
    "xtrain, xtest, ytrain, ytest = train_test_split(x, y, test_size=0.2, random_state=42)\n",
    "model = LinearRegression()\n",
    "model.fit(xtrain, ytrain)\n",
    "ypred = model.predict(xtest)\n",
    "\n",
    "data = pd.DataFrame(data={\"Predicted Sales\": ypred.flatten()})\n",
    "print(data)"
   ]
  },
  {
   "cell_type": "code",
   "execution_count": null,
   "id": "ac7a25fa",
   "metadata": {},
   "outputs": [],
   "source": []
  }
 ],
 "metadata": {
  "kernelspec": {
   "display_name": "Python 3 (ipykernel)",
   "language": "python",
   "name": "python3"
  },
  "language_info": {
   "codemirror_mode": {
    "name": "ipython",
    "version": 3
   },
   "file_extension": ".py",
   "mimetype": "text/x-python",
   "name": "python",
   "nbconvert_exporter": "python",
   "pygments_lexer": "ipython3",
   "version": "3.9.13"
  }
 },
 "nbformat": 4,
 "nbformat_minor": 5
}
